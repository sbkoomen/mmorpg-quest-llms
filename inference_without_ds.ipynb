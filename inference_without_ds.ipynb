{
 "cells": [
  {
   "cell_type": "markdown",
   "metadata": {
    "formattedRanges": [],
    "cell_id": "83a8f476ca50413aa2d945ffe9a7e56a",
    "deepnote_cell_type": "text-cell-h1"
   },
   "source": [
    "# Inference without DS using CPU"
   ],
   "block_group": "a7d180e3531f4aa395fc7d543ae47530"
  },
  {
   "cell_type": "markdown",
   "metadata": {
    "formattedRanges": [],
    "cell_id": "360d15d3eb59452586a616ae2f69937f",
    "deepnote_cell_type": "text-cell-p"
   },
   "source": [
    "I couldn't get Deepspeed to use the GPU for inference so for my research I opted to run inference on the CPU.\n",
    "Your mileage may vary but this code has been included for completeness."
   ],
   "block_group": "6bf0abcf92904a2397c09066a33ee464"
  },
  {
   "cell_type": "markdown",
   "metadata": {
    "formattedRanges": [],
    "cell_id": "236901cb050b4b7ab6859d780027bb39",
    "deepnote_cell_type": "text-cell-p"
   },
   "source": [
    "Find and replace \"DATASET\" with your dataset name."
   ],
   "block_group": "321bfd5460d54fb9b87553a4d2921b11"
  },
  {
   "cell_type": "code",
   "metadata": {
    "output_cleared": true,
    "cell_id": "02e295a3879d48aa830529bf662cc451",
    "deepnote_cell_type": "code"
   },
   "source": [
    "# install requirements\n",
    "!pip install -r requirements.txt"
   ],
   "block_group": "de199fa43b074752b014d917f353b7ef",
   "execution_count": null,
   "outputs": [
    {
     "name": "stdout",
     "output_type": "stream",
     "text": "Defaulting to user installation because normal site-packages is not writeable\n\u001B[33mWARNING: Ignoring invalid distribution -ransformers (/home/jovyan/.local/lib/python3.8/site-packages)\u001B[0m\u001B[33m\n\u001B[0m\u001B[33mWARNING: Ignoring invalid distribution -orch (/home/jovyan/.local/lib/python3.8/site-packages)\u001B[0m\u001B[33m\n\u001B[0m\u001B[33mWARNING: Ignoring invalid distribution -ransformers (/home/jovyan/.local/lib/python3.8/site-packages)\u001B[0m\u001B[33m\n\u001B[0m\u001B[33mWARNING: Ignoring invalid distribution -orch (/home/jovyan/.local/lib/python3.8/site-packages)\u001B[0m\u001B[33m\n\u001B[0mLooking in links: https://download.pytorch.org/whl/torch_stable.html, https://download.pytorch.org/whl/torch_stable.html\nRequirement already satisfied: numpy==1.21.4 in /home/jovyan/.local/lib/python3.8/site-packages (from -r requirements.txt (line 1)) (1.21.4)\nRequirement already satisfied: pandas==1.2.2 in /home/jovyan/.local/lib/python3.8/site-packages (from -r requirements.txt (line 2)) (1.2.2)\nRequirement already satisfied: torch==1.13.1+cu116 in /home/jovyan/.local/lib/python3.8/site-packages (from -r requirements.txt (line 4)) (1.13.1+cu116)\nRequirement already satisfied: torchvision==0.14.1+cu116 in /home/jovyan/.local/lib/python3.8/site-packages (from -r requirements.txt (line 6)) (0.14.1+cu116)\nRequirement already satisfied: torchsummary==1.5.1 in /home/jovyan/.local/lib/python3.8/site-packages (from -r requirements.txt (line 7)) (1.5.1)\nRequirement already satisfied: transformers in /home/jovyan/.local/lib/python3.8/site-packages (from -r requirements.txt (line 8)) (4.30.1)\nRequirement already satisfied: deepspeed in /home/jovyan/.local/lib/python3.8/site-packages (from -r requirements.txt (line 9)) (0.5.9)\nRequirement already satisfied: python-dateutil>=2.7.3 in /usr/local/lib/python3.8/dist-packages (from pandas==1.2.2->-r requirements.txt (line 2)) (2.8.2)\nRequirement already satisfied: pytz>=2017.3 in /usr/local/lib/python3.8/dist-packages (from pandas==1.2.2->-r requirements.txt (line 2)) (2023.3)\nRequirement already satisfied: typing-extensions in /usr/local/lib/python3.8/dist-packages (from torch==1.13.1+cu116->-r requirements.txt (line 4)) (4.7.1)\nRequirement already satisfied: pillow!=8.3.*,>=5.3.0 in /usr/local/lib/python3.8/dist-packages (from torchvision==0.14.1+cu116->-r requirements.txt (line 6)) (10.0.0)\nRequirement already satisfied: requests in /usr/local/lib/python3.8/dist-packages (from torchvision==0.14.1+cu116->-r requirements.txt (line 6)) (2.31.0)\nRequirement already satisfied: pyyaml>=5.1 in /usr/local/lib/python3.8/dist-packages (from transformers->-r requirements.txt (line 8)) (6.0)\nRequirement already satisfied: filelock in /usr/local/lib/python3.8/dist-packages (from transformers->-r requirements.txt (line 8)) (3.12.2)\nRequirement already satisfied: packaging>=20.0 in /usr/local/lib/python3.8/dist-packages (from transformers->-r requirements.txt (line 8)) (23.1)\nRequirement already satisfied: regex!=2019.12.17 in /home/jovyan/.local/lib/python3.8/site-packages (from transformers->-r requirements.txt (line 8)) (2022.10.31)\nRequirement already satisfied: safetensors>=0.3.1 in /home/jovyan/.local/lib/python3.8/site-packages (from transformers->-r requirements.txt (line 8)) (0.3.1)\nRequirement already satisfied: huggingface-hub<1.0,>=0.14.1 in /home/jovyan/.local/lib/python3.8/site-packages (from transformers->-r requirements.txt (line 8)) (0.15.1)\nRequirement already satisfied: tokenizers!=0.11.3,<0.14,>=0.11.1 in /home/jovyan/.local/lib/python3.8/site-packages (from transformers->-r requirements.txt (line 8)) (0.13.3)\nRequirement already satisfied: tqdm>=4.27 in /usr/local/lib/python3.8/dist-packages (from transformers->-r requirements.txt (line 8)) (4.65.0)\nRequirement already satisfied: hjson in /home/jovyan/.local/lib/python3.8/site-packages (from deepspeed->-r requirements.txt (line 9)) (3.1.0)\nRequirement already satisfied: ninja in /home/jovyan/.local/lib/python3.8/site-packages (from deepspeed->-r requirements.txt (line 9)) (1.11.1)\nRequirement already satisfied: py-cpuinfo in /home/jovyan/.local/lib/python3.8/site-packages (from deepspeed->-r requirements.txt (line 9)) (9.0.0)\nRequirement already satisfied: triton==1.0.0 in /home/jovyan/.local/lib/python3.8/site-packages (from deepspeed->-r requirements.txt (line 9)) (1.0.0)\nRequirement already satisfied: psutil in /usr/local/lib/python3.8/dist-packages (from deepspeed->-r requirements.txt (line 9)) (5.9.5)\nRequirement already satisfied: fsspec in /usr/local/lib/python3.8/dist-packages (from huggingface-hub<1.0,>=0.14.1->transformers->-r requirements.txt (line 8)) (2023.6.0)\nRequirement already satisfied: six>=1.5 in /usr/lib/python3/dist-packages (from python-dateutil>=2.7.3->pandas==1.2.2->-r requirements.txt (line 2)) (1.14.0)\nRequirement already satisfied: urllib3<3,>=1.21.1 in /usr/lib/python3/dist-packages (from requests->torchvision==0.14.1+cu116->-r requirements.txt (line 6)) (1.25.8)\nRequirement already satisfied: charset-normalizer<4,>=2 in /usr/local/lib/python3.8/dist-packages (from requests->torchvision==0.14.1+cu116->-r requirements.txt (line 6)) (3.1.0)\nRequirement already satisfied: certifi>=2017.4.17 in /usr/lib/python3/dist-packages (from requests->torchvision==0.14.1+cu116->-r requirements.txt (line 6)) (2019.11.28)\nRequirement already satisfied: idna<4,>=2.5 in /usr/lib/python3/dist-packages (from requests->torchvision==0.14.1+cu116->-r requirements.txt (line 6)) (2.8)\n\u001B[33mWARNING: Ignoring invalid distribution -ransformers (/home/jovyan/.local/lib/python3.8/site-packages)\u001B[0m\u001B[33m\n\u001B[0m\u001B[33mWARNING: Ignoring invalid distribution -orch (/home/jovyan/.local/lib/python3.8/site-packages)\u001B[0m\u001B[33m\n\u001B[0m\u001B[33mWARNING: Ignoring invalid distribution -ransformers (/home/jovyan/.local/lib/python3.8/site-packages)\u001B[0m\u001B[33m\n\u001B[0m\u001B[33mWARNING: Ignoring invalid distribution -orch (/home/jovyan/.local/lib/python3.8/site-packages)\u001B[0m\u001B[33m\n\u001B[0m\u001B[33mWARNING: Ignoring invalid distribution -ransformers (/home/jovyan/.local/lib/python3.8/site-packages)\u001B[0m\u001B[33m\n\u001B[0m\u001B[33mWARNING: Ignoring invalid distribution -orch (/home/jovyan/.local/lib/python3.8/site-packages)\u001B[0m\u001B[33m\n\u001B[0m\u001B[33mWARNING: Ignoring invalid distribution -ransformers (/home/jovyan/.local/lib/python3.8/site-packages)\u001B[0m\u001B[33m\n\u001B[0m\u001B[33mWARNING: Ignoring invalid distribution -orch (/home/jovyan/.local/lib/python3.8/site-packages)\u001B[0m\u001B[33m\n\u001B[0m\n\u001B[1m[\u001B[0m\u001B[34;49mnotice\u001B[0m\u001B[1;39;49m]\u001B[0m\u001B[39;49m A new release of pip is available: \u001B[0m\u001B[31;49m23.0.1\u001B[0m\u001B[39;49m -> \u001B[0m\u001B[32;49m23.3.1\u001B[0m\n\u001B[1m[\u001B[0m\u001B[34;49mnotice\u001B[0m\u001B[1;39;49m]\u001B[0m\u001B[39;49m To update, run: \u001B[0m\u001B[32;49mpython -m pip install --upgrade pip\u001B[0m\n"
    }
   ]
  },
  {
   "cell_type": "markdown",
   "metadata": {
    "formattedRanges": [],
    "cell_id": "6bb5f65b1c774510bd31dab63f62fa17",
    "deepnote_cell_type": "text-cell-h2"
   },
   "source": [
    "## Setup"
   ],
   "block_group": "866af448d3a94f929e28526d03405fe9"
  },
  {
   "cell_type": "code",
   "metadata": {
    "output_cleared": true,
    "cell_id": "d734cb45675041028ddf00ef9b0ed953",
    "deepnote_cell_type": "code"
   },
   "source": [
    "# load libraries, model and tokenizer\n",
    "from transformers import GPTJForCausalLM, AutoTokenizer, AutoModelForCausalLM\n",
    "import re\n",
    "import torch\n",
    "\n",
    "model = AutoModelForCausalLM.from_pretrained(\"./gpt-j-DATASET\")\n",
    "\n",
    "tokenizer = AutoTokenizer.from_pretrained(\"EleutherAI/gpt-j-6B\")"
   ],
   "block_group": "ae322651f32441ff92c384acb3cd5391",
   "execution_count": null,
   "outputs": [
    {
     "name": "stderr",
     "output_type": "stream",
     "text": "/home/jovyan/venvs/my_environment/lib/python3.10/site-packages/tqdm/auto.py:21: TqdmWarning: IProgress not found. Please update jupyter and ipywidgets. See https://ipywidgets.readthedocs.io/en/stable/user_install.html\n  from .autonotebook import tqdm as notebook_tqdm\n"
    }
   ]
  },
  {
   "cell_type": "markdown",
   "metadata": {
    "formattedRanges": [],
    "cell_id": "304ed31db6754b439aef5d64ca9c6371",
    "deepnote_cell_type": "text-cell-h2"
   },
   "source": [
    "## Parameters"
   ],
   "block_group": "39f8109a9e594312a2e783db30ee7963"
  },
  {
   "cell_type": "code",
   "metadata": {
    "cell_id": "70900391270f4357ab9d3f8958a31935",
    "deepnote_cell_type": "code"
   },
   "source": [
    "# Inference configuration parameters, see https://huggingface.co/docs/transformers/main/en/main_classes/text_generation#transformers.GenerationConfig \n",
    "# Exclusive parameters and output strategy is not clear from documentation, beam search seems to give best results\n",
    "\n",
    "\n",
    "# When uncommenting parameters for use:\n",
    "# Don't forget to uncomment the parameter to be used in every model.generate call below as well\n",
    "\n",
    "\n",
    "num_returns = 3 # number of outputs per input prompt\n",
    "# k = 100 # top-k\n",
    "# p = 0.2 # top-p\n",
    "temp = 0.8 # temperature\n",
    "length = 140 # max additional number of tokens\n",
    "beams = 5 # amount of beams\n",
    "# n_gram = 2 # no repeat n-gram\n",
    "# penalty = 0.5 # penalty alpha\n",
    "# tpcl_p = 0.1 # typical p\n",
    "# rep_penalty = 2.0 # repetition penalty\n",
    "# eta_c = 0.0005 # eta cutoff"
   ],
   "block_group": "a63b735f674741a6a081dae5824116ed",
   "execution_count": null,
   "outputs": []
  },
  {
   "cell_type": "markdown",
   "metadata": {
    "formattedRanges": [],
    "cell_id": "a0045d0b0f2f448a8f93bd64618f603f",
    "deepnote_cell_type": "text-cell-h2"
   },
   "source": [
    "## Generation"
   ],
   "block_group": "ec0020ff7a1644d7b9d4256393e6fc4a"
  },
  {
   "cell_type": "markdown",
   "metadata": {
    "formattedRanges": [],
    "cell_id": "5bc4e92af5b747658c98c4b555558b97",
    "deepnote_cell_type": "text-cell-p"
   },
   "source": [
    "One prompt from World of Warcraft is given as example input."
   ],
   "block_group": "46fe99beabee45de9afa1c3ffb35f1a6"
  },
  {
   "cell_type": "code",
   "metadata": {
    "output_cleared": true,
    "cell_id": "105473c1559f4d3783346e3c466a26e6",
    "deepnote_cell_type": "code"
   },
   "source": [
    "# give input prompt of excluded original quests without description text so model generates from description tag onwards\n",
    "prompt = \"<|startoftext|>What Strange Creatures...<|level|>69<|race|>Horde<|category|>Shadowmoon Valley<|quest_giver|>Researcher Tiorus<|quest_ender|>Researcher Tiorus<|quest_line|>What Strange Creatures...<|required_quests|><|unlocked_quests|><|objective|>Researcher Tiorus at Shadowmoon Village in Shadowmoon Valley wants you to recover 8 Felfire Spleens.<|description|>\"\n",
    "\n",
    "# tokenize input prompt\n",
    "input_ids = tokenizer(prompt, return_tensors=\"pt\").input_ids\n",
    "\n",
    "# generate tokens\n",
    "gen_tokens = model.generate(input_ids,\n",
    "                            do_sample=True, # whether or not to use sampling, False for greedy decoding\n",
    "                            num_return_sequences=num_returns, \n",
    "                            # top_k=k,\n",
    "                            # top_p=p,\n",
    "                            temperature=temp,\n",
    "                            max_new_tokens=length,\n",
    "                            num_beams=beams,\n",
    "                            # penalty_alpha=penalty,\n",
    "                            # no_repeat_ngram_size=n_gram,\n",
    "                            # typical_p=tpcl_p,\n",
    "                            # repetition_penalty=rep_penalty,\n",
    "                            # eta_cutoff=eta_c,\n",
    "                            renormalize_logits=True\n",
    "                            )\n",
    "\n",
    "# print parameter settings\n",
    "print(\"_\" * 70 # separation line between entries\n",
    "        + \"\\n\"\n",
    "      +\", renormalize logits\"\n",
    "      # +\", k: \"+str(k)\n",
    "      # +\", p: \"+str(p)\n",
    "      +\", temp: \"+str(temp)\n",
    "      +\", length: \"+str(length)\n",
    "      +\", beams: \"+str(beams)\n",
    "      # +\", n-gram: \"+str(n_gram)\n",
    "      # +\", penalty: \"+str(penalty)\n",
    "      # +\", typical_p: \"+str(tpcl_p)\n",
    "    #   +\", repetition penalty: \"+str(rep_penalty)\n",
    "      # +\", ETA cutoff: \"+str(eta_c)\n",
    "      +\"\\n\", file=open('DATASET_output.txt', 'a'))\n",
    "\n",
    "# clean up results with regex and print result in DATASET_output.txt\n",
    "for i, sample_output in enumerate(gen_tokens):\n",
    "    print(\"{}: {}\".format(i, re.sub(r'(\\<\\|)', r'\\n\\1', tokenizer.decode(sample_output, skip_special_tokens=True))), file=open('DATASET_output.txt', 'a'))\n"
   ],
   "block_group": "e3f6406f9af348f6ab9879469c5e1cd0",
   "execution_count": null,
   "outputs": [
    {
     "name": "stderr",
     "output_type": "stream",
     "text": "The attention mask and the pad token id were not set. As a consequence, you may observe unexpected behavior. Please pass your input's `attention_mask` to obtain reliable results.\nSetting `pad_token_id` to `eos_token_id`:50256 for open-end generation.\nThe attention mask and the pad token id were not set. As a consequence, you may observe unexpected behavior. Please pass your input's `attention_mask` to obtain reliable results.\nSetting `pad_token_id` to `eos_token_id`:50256 for open-end generation.\nThe attention mask and the pad token id were not set. As a consequence, you may observe unexpected behavior. Please pass your input's `attention_mask` to obtain reliable results.\nSetting `pad_token_id` to `eos_token_id`:50256 for open-end generation.\nThe attention mask and the pad token id were not set. As a consequence, you may observe unexpected behavior. Please pass your input's `attention_mask` to obtain reliable results.\nSetting `pad_token_id` to `eos_token_id`:50256 for open-end generation.\n"
    }
   ]
  },
  {
   "cell_type": "code",
   "metadata": {
    "cell_id": "56b21711c8014d8eb190136206408fa6",
    "deepnote_cell_type": "code",
    "pycharm": {
     "name": "#%%\n"
    }
   },
   "source": [],
   "block_group": "185a954dbc1b438ca119526848df8e1f",
   "execution_count": null,
   "outputs": []
  }
 ],
 "nbformat": 4,
 "nbformat_minor": 0,
 "metadata": {
  "deepnote_notebook_id": "765732f88b7942059d89298800949466",
  "deepnote_execution_queue": []
 }
}